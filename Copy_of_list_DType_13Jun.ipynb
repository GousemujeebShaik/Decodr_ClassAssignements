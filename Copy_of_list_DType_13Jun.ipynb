{
  "nbformat": 4,
  "nbformat_minor": 0,
  "metadata": {
    "colab": {
      "name": "Copy of list_DType.ipynb",
      "provenance": [],
      "collapsed_sections": [],
      "include_colab_link": true
    },
    "kernelspec": {
      "name": "python3",
      "display_name": "Python 3"
    },
    "language_info": {
      "name": "python"
    }
  },
  "cells": [
    {
      "cell_type": "markdown",
      "metadata": {
        "id": "view-in-github",
        "colab_type": "text"
      },
      "source": [
        "<a href=\"https://colab.research.google.com/github/GousemujeebShaik/Decodr_ClassAssignements/blob/main/Copy_of_list_DType_13Jun.ipynb\" target=\"_parent\"><img src=\"https://colab.research.google.com/assets/colab-badge.svg\" alt=\"Open In Colab\"/></a>"
      ]
    },
    {
      "cell_type": "markdown",
      "metadata": {
        "id": "7DHlxw7KS4LO"
      },
      "source": [
        "**[Slide No.- 35]**\n",
        "\n",
        "1. Create a empty list and check its Data type "
      ]
    },
    {
      "cell_type": "code",
      "metadata": {
        "id": "9tPdozyQj7cu",
        "colab": {
          "base_uri": "https://localhost:8080/"
        },
        "outputId": "8b294c8c-38c9-4c07-dedc-58cd58adfd7c"
      },
      "source": [
        "list1=[]\n",
        "print(\"data type of list1:\",type(list1))"
      ],
      "execution_count": null,
      "outputs": [
        {
          "output_type": "stream",
          "text": [
            "data type of list1: <class 'list'>\n"
          ],
          "name": "stdout"
        }
      ]
    },
    {
      "cell_type": "code",
      "metadata": {
        "id": "RtfUHgj5a45J",
        "colab": {
          "base_uri": "https://localhost:8080/"
        },
        "outputId": "2a7f3074-7258-446c-bea5-e960cfcd4c18"
      },
      "source": [
        "\n"
      ],
      "execution_count": null,
      "outputs": [
        {
          "output_type": "stream",
          "text": [
            "data type of a:  <class 'list'>\n"
          ],
          "name": "stdout"
        }
      ]
    },
    {
      "cell_type": "markdown",
      "metadata": {
        "id": "4EnsxsI0FPcv"
      },
      "source": [
        ""
      ]
    },
    {
      "cell_type": "code",
      "metadata": {
        "id": "ef5HNtgtSDwz"
      },
      "source": [
        ""
      ],
      "execution_count": null,
      "outputs": []
    },
    {
      "cell_type": "markdown",
      "metadata": {
        "id": "KbC4gtb0Wo4u"
      },
      "source": [
        "**[Slide No.- 35]**\n",
        "\n",
        "2. Create a list in which at even places string are present and at odd places integervalue is present and the length of the string is 6."
      ]
    },
    {
      "cell_type": "code",
      "metadata": {
        "id": "BzIsIJzXWpMO",
        "colab": {
          "base_uri": "https://localhost:8080/"
        },
        "outputId": "93e9ddbe-fd83-4906-bdfe-1bac8a6400bf"
      },
      "source": [
        "\n",
        "list1 = ['Hellos',1,'Hellos',2,'Hellos',3]\n",
        "len(list1)"
      ],
      "execution_count": null,
      "outputs": [
        {
          "output_type": "execute_result",
          "data": {
            "text/plain": [
              "6"
            ]
          },
          "metadata": {
            "tags": []
          },
          "execution_count": 2
        }
      ]
    },
    {
      "cell_type": "markdown",
      "metadata": {
        "id": "NhGbCdSfTFa7"
      },
      "source": [
        "**[Slide No. - 36]**\n",
        "\n",
        "3. Create a lsit which has 6 elements and print last three elements from the list "
      ]
    },
    {
      "cell_type": "code",
      "metadata": {
        "id": "SUzgZi8DTF5C",
        "colab": {
          "base_uri": "https://localhost:8080/"
        },
        "outputId": "aea22376-6da2-49aa-e1a5-893715808078"
      },
      "source": [
        "list1=[1,2,3,4,5,6]\n",
        "list1[-3:]\n"
      ],
      "execution_count": null,
      "outputs": [
        {
          "output_type": "execute_result",
          "data": {
            "text/plain": [
              "[4, 5, 6]"
            ]
          },
          "metadata": {
            "tags": []
          },
          "execution_count": 4
        }
      ]
    },
    {
      "cell_type": "markdown",
      "metadata": {
        "id": "3LhHLCB6Tm8K"
      },
      "source": [
        "**[Slide No. - 36 ]**\n",
        "\n",
        "4. What is the output :\n",
        " list = [1,2,3,4,5,6,7] \n",
        " \n",
        " list[:]=?"
      ]
    },
    {
      "cell_type": "code",
      "metadata": {
        "id": "zfkX5LLzTnXP",
        "colab": {
          "base_uri": "https://localhost:8080/"
        },
        "outputId": "fbe489a8-85ce-42e3-f271-8007c66e6c77"
      },
      "source": [
        "list1=[1,2,3,4,5,6,7]\n",
        "list1[:]"
      ],
      "execution_count": null,
      "outputs": [
        {
          "output_type": "execute_result",
          "data": {
            "text/plain": [
              "[1, 2, 3, 4, 5, 6, 7]"
            ]
          },
          "metadata": {
            "tags": []
          },
          "execution_count": 5
        }
      ]
    },
    {
      "cell_type": "markdown",
      "metadata": {
        "id": "93qfPdkuTnfg"
      },
      "source": [
        "**[Slide No. - 36]**\n",
        "\n",
        "5. What is the output : list = [1,2,3,4,5,6,7]\n",
        "\n",
        "Print the even places items from the list."
      ]
    },
    {
      "cell_type": "code",
      "metadata": {
        "id": "otaNABAtTnrp",
        "colab": {
          "base_uri": "https://localhost:8080/"
        },
        "outputId": "01f3aa22-3e21-41e0-d461-0b5f1f2ade43"
      },
      "source": [
        "list1[::2]\n"
      ],
      "execution_count": null,
      "outputs": [
        {
          "output_type": "execute_result",
          "data": {
            "text/plain": [
              "[1, 3, 5, 7]"
            ]
          },
          "metadata": {
            "tags": []
          },
          "execution_count": 6
        }
      ]
    },
    {
      "cell_type": "markdown",
      "metadata": {
        "id": "SdSk9Z-vTn4h"
      },
      "source": [
        "**[Slide No. - 36]**\n",
        "\n",
        "6. What is the output : list = [1,2,3,4,10,11,7]\n",
        "\n",
        "print 10 and 11 item from the list ."
      ]
    },
    {
      "cell_type": "code",
      "metadata": {
        "id": "i9rupinIToAR",
        "colab": {
          "base_uri": "https://localhost:8080/"
        },
        "outputId": "1d788673-755b-4c85-9299-2808563a416b"
      },
      "source": [
        "list1=[1,2,3,4,10,11,7]\n",
        "list1[4:6]\n"
      ],
      "execution_count": null,
      "outputs": [
        {
          "output_type": "execute_result",
          "data": {
            "text/plain": [
              "[10, 11]"
            ]
          },
          "metadata": {
            "tags": []
          },
          "execution_count": 7
        }
      ]
    },
    {
      "cell_type": "markdown",
      "metadata": {
        "id": "jKf-xLTiToHF"
      },
      "source": [
        "**[Slide No. -38]**\n",
        "\n",
        "7.  Delete the 3 index value from the list and the print the list.\n",
        "\n",
        "list = [1, 2, 3, 4, 5, 6]    \n",
        "\n",
        "print(list)    \n",
        "    \n",
        " "
      ]
    },
    {
      "cell_type": "code",
      "metadata": {
        "id": "YSwSSoZSToQT",
        "colab": {
          "base_uri": "https://localhost:8080/"
        },
        "outputId": "a708c30e-1104-4166-afe2-227d7c3987a1"
      },
      "source": [
        "list1 = [1, 2, 3, 4, 5, 6]    \n",
        "list1.pop(3)\n",
        "list1"
      ],
      "execution_count": null,
      "outputs": [
        {
          "output_type": "execute_result",
          "data": {
            "text/plain": [
              "[1, 2, 3, 5, 6]"
            ]
          },
          "metadata": {
            "tags": []
          },
          "execution_count": 9
        }
      ]
    },
    {
      "cell_type": "markdown",
      "metadata": {
        "id": "XqIA7Ia9Umga"
      },
      "source": [
        "[Slide No. - 37]\n",
        "8. list = [1, \"a\", 3, 4, 5, 6] \n",
        "\n",
        "replace \"a\" by 2 in the list\n",
        "\n",
        "What is the new list?"
      ]
    },
    {
      "cell_type": "code",
      "metadata": {
        "id": "fCgmnwKlUm7K",
        "colab": {
          "base_uri": "https://localhost:8080/"
        },
        "outputId": "3729080e-b2c0-4d85-ec1d-b72b94d5127e"
      },
      "source": [
        "list1 = [1, \"a\", 3, 4, 5, 6]\n",
        "list1[1]=2\n",
        "list1\n"
      ],
      "execution_count": null,
      "outputs": [
        {
          "output_type": "execute_result",
          "data": {
            "text/plain": [
              "[1, 2, 3, 4, 5, 6]"
            ]
          },
          "metadata": {
            "tags": []
          },
          "execution_count": 10
        }
      ]
    },
    {
      "cell_type": "markdown",
      "metadata": {
        "id": "PbqBBeiMUnMA"
      },
      "source": [
        "**[Slide No - 37]**\n",
        "\n",
        "9. list = [1, 2, 3, 4, 5, 6] \n",
        "\n",
        "by using neagtive indexing replace 5 by 'e' in the list \n",
        "\n",
        "print(list)"
      ]
    },
    {
      "cell_type": "code",
      "metadata": {
        "id": "EsvRWH48UnWJ",
        "colab": {
          "base_uri": "https://localhost:8080/"
        },
        "outputId": "6e50ac3a-28bd-4ab8-e97f-5f2e02013d73"
      },
      "source": [
        "list1 = [1, 2, 3, 4, 5, 6]\n",
        "list1[-2]='e'\n",
        "list1\n"
      ],
      "execution_count": null,
      "outputs": [
        {
          "output_type": "execute_result",
          "data": {
            "text/plain": [
              "[1, 2, 3, 4, 'e', 6]"
            ]
          },
          "metadata": {
            "tags": []
          },
          "execution_count": 11
        }
      ]
    },
    {
      "cell_type": "markdown",
      "metadata": {
        "id": "-2YsXQGKVGxY"
      },
      "source": [
        "**[Slide No. - 37]**\n",
        "\n",
        "10. list = [1, 2, 3, 4, 5, 6] \n",
        "\n",
        "replace 1st and 2nd index value by (89,78)\n",
        "\n",
        "print(list) "
      ]
    },
    {
      "cell_type": "code",
      "metadata": {
        "id": "G3JxP2ToVGCt",
        "colab": {
          "base_uri": "https://localhost:8080/"
        },
        "outputId": "1e2c0ac8-3e21-45f9-f5dd-c753e18e73ab"
      },
      "source": [
        "list1 =[1,2,3,4,5,6]\n",
        "list1[1:3]=[89,78]\n",
        "list1\n",
        "\n"
      ],
      "execution_count": null,
      "outputs": [
        {
          "output_type": "execute_result",
          "data": {
            "text/plain": [
              "[1, 89, 78, 4, 5, 6]"
            ]
          },
          "metadata": {
            "tags": []
          },
          "execution_count": 12
        }
      ]
    },
    {
      "cell_type": "markdown",
      "metadata": {
        "id": "5PEGDtZgVeTB"
      },
      "source": [
        "**[Slide No. -38]**\n",
        "\n",
        "11. Create a list and delete 2 to 4 index value  from list ?"
      ]
    },
    {
      "cell_type": "code",
      "metadata": {
        "id": "tuy0DMDqZ7Ux",
        "colab": {
          "base_uri": "https://localhost:8080/"
        },
        "outputId": "30cbc44e-a537-41dc-e727-45a2a0802393"
      },
      "source": [
        "list1=[1,2,3,4,5,6,7,8]\n",
        "list1 = list1[:2]+list1[5:]\n",
        "list1\n"
      ],
      "execution_count": null,
      "outputs": [
        {
          "output_type": "execute_result",
          "data": {
            "text/plain": [
              "[1, 2, 6, 7, 8]"
            ]
          },
          "metadata": {
            "tags": []
          },
          "execution_count": 15
        }
      ]
    },
    {
      "cell_type": "markdown",
      "metadata": {
        "id": "-OszCxUMZ8GW"
      },
      "source": [
        "**[Slide No.- 39]**\n",
        "\n",
        "12. Rermove Science  item from the list.\n",
        "\n",
        "Subject =['math', 'science', 'hindi', 'SST', 'Sanskrit']\n"
      ]
    },
    {
      "cell_type": "code",
      "metadata": {
        "id": "PwSvcAWJVexl",
        "colab": {
          "base_uri": "https://localhost:8080/"
        },
        "outputId": "589fe0da-08db-4b71-e163-525b4dfbf003"
      },
      "source": [
        "\n",
        "\n",
        "Subject =['math', 'science', 'hindi', 'SST', 'Sanskrit']\n",
        "Subject.remove('science')\n",
        "Subject"
      ],
      "execution_count": null,
      "outputs": [
        {
          "output_type": "execute_result",
          "data": {
            "text/plain": [
              "['math', 'hindi', 'SST', 'Sanskrit']"
            ]
          },
          "metadata": {
            "tags": []
          },
          "execution_count": 16
        }
      ]
    },
    {
      "cell_type": "code",
      "metadata": {
        "id": "udi7tJ8kTsuB"
      },
      "source": [
        ""
      ],
      "execution_count": null,
      "outputs": []
    }
  ]
}