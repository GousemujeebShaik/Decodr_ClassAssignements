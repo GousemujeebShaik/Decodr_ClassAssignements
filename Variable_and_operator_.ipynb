{
  "nbformat": 4,
  "nbformat_minor": 0,
  "metadata": {
    "colab": {
      "name": "Variable_and_operator_.ipynb",
      "provenance": [],
      "collapsed_sections": [],
      "include_colab_link": true
    },
    "kernelspec": {
      "name": "python3",
      "display_name": "Python 3"
    },
    "language_info": {
      "name": "python"
    }
  },
  "cells": [
    {
      "cell_type": "markdown",
      "metadata": {
        "id": "view-in-github",
        "colab_type": "text"
      },
      "source": [
        "<a href=\"https://colab.research.google.com/github/GousemujeebShaik/Decodr_ClassAssignements/blob/main/Variable_and_operator_.ipynb\" target=\"_parent\"><img src=\"https://colab.research.google.com/assets/colab-badge.svg\" alt=\"Open In Colab\"/></a>"
      ]
    },
    {
      "cell_type": "markdown",
      "metadata": {
        "id": "xkS9gXm7JAwb"
      },
      "source": [
        "# Variable and Operator "
      ]
    },
    {
      "cell_type": "markdown",
      "metadata": {
        "id": "bpWJpSkLKLHd"
      },
      "source": [
        "**[Slide No.- 19]**\n",
        "\n",
        "1. Which one of the following is correct way of declaring and initialising a variable, x with value 5?\n",
        "\n",
        "A. int x\n",
        "  \n",
        "    x=5\n",
        "\n",
        "B. int x=5\n",
        "\n",
        "C. x=5\n",
        "\n",
        "D. declare x=5\n",
        "\n",
        "\n",
        "\n",
        "\n"
      ]
    },
    {
      "cell_type": "code",
      "metadata": {
        "id": "-gWs4ttlI3TT",
        "colab": {
          "base_uri": "https://localhost:8080/"
        },
        "outputId": "e54c44af-3b2b-449b-8509-682aec7b24f9"
      },
      "source": [
        "# Check your Answer\n",
        "x = 5\n",
        "x # Correct anser is option C"
      ],
      "execution_count": 4,
      "outputs": [
        {
          "output_type": "execute_result",
          "data": {
            "text/plain": [
              "5"
            ]
          },
          "metadata": {
            "tags": []
          },
          "execution_count": 4
        }
      ]
    },
    {
      "cell_type": "markdown",
      "metadata": {
        "id": "gpg53f-UKhi1"
      },
      "source": [
        "**[Slide No.-19]**\n",
        "\n",
        "2. Which of the following is not valid variable name in Python?\n",
        "\n",
        "A. _var = 6\n",
        "\n",
        "B. var_name = 6\n",
        "\n",
        "C. var11 = 6\n",
        "\n",
        "D. 11var = 6"
      ]
    },
    {
      "cell_type": "code",
      "metadata": {
        "id": "4eFCqihlKg6W"
      },
      "source": [
        "#Check your Answer\n",
        "#11var=6 \n",
        "#correct answer is Opt D, as the variable names cannot start with the numbers"
      ],
      "execution_count": 5,
      "outputs": []
    },
    {
      "cell_type": "markdown",
      "metadata": {
        "id": "uIU52OVeLOO2"
      },
      "source": [
        "**[Slide No.- 19]**\n",
        "\n",
        "\n",
        "3. Which of the following will give error?\n",
        "\n",
        "A. a=b=c=1\n",
        "\n",
        "B. a,b,c=1\n",
        "\n",
        "C. a b c=1, 4, 1.5\n",
        "\n",
        "D. None of the above"
      ]
    },
    {
      "cell_type": "code",
      "metadata": {
        "id": "ZFU-przBLmgX"
      },
      "source": [
        "#Check your Answer\n",
        "#a, b,c=1\n",
        "# answer is option B, as the same value cannot be allocated like this to multiple variables"
      ],
      "execution_count": 7,
      "outputs": []
    },
    {
      "cell_type": "markdown",
      "metadata": {
        "id": "sOaKfvOMMdEw"
      },
      "source": [
        "**[Slide No.- 21]**\n",
        "\n",
        "4. What is the output of the following code\n",
        "\n",
        "x = 6\n",
        "\n",
        "y = 2\n",
        "\n",
        "a=print(x ** y)\n",
        "\n",
        "b= print(x // y)"
      ]
    },
    {
      "cell_type": "code",
      "metadata": {
        "id": "8Y5nOCbuLywt",
        "colab": {
          "base_uri": "https://localhost:8080/"
        },
        "outputId": "57651e77-16dd-4d3b-cfd5-6fd0e3cd0a99"
      },
      "source": [
        "#Check your Answer\n",
        "\n",
        "x=6\n",
        "y=2\n",
        "a=print(x ** y)\n",
        "b= print(x//y)"
      ],
      "execution_count": 8,
      "outputs": [
        {
          "output_type": "stream",
          "text": [
            "36\n",
            "3\n"
          ],
          "name": "stdout"
        }
      ]
    },
    {
      "cell_type": "markdown",
      "metadata": {
        "id": "-FxzjkhMNkZw"
      },
      "source": [
        "**[Slide No.-21]**\n",
        "\n",
        "# find the value of this expression (v+w) * x/ y\n",
        "v = 4\n",
        "\n",
        "w = 5\n",
        "\n",
        "x = 8\n",
        "\n",
        "\n",
        "y = 2\n",
        "\n",
        "z = 0"
      ]
    },
    {
      "cell_type": "code",
      "metadata": {
        "id": "kx6gTDJWNjnT",
        "colab": {
          "base_uri": "https://localhost:8080/"
        },
        "outputId": "9138ab4c-610e-40a5-f8ad-e903fe4996e0"
      },
      "source": [
        "v = 4\n",
        "w = 5\n",
        "x = 8\n",
        "y = 2\n",
        "z = 0\n",
        "(v+w)*x/y"
      ],
      "execution_count": 9,
      "outputs": [
        {
          "output_type": "execute_result",
          "data": {
            "text/plain": [
              "36.0"
            ]
          },
          "metadata": {
            "tags": []
          },
          "execution_count": 9
        }
      ]
    },
    {
      "cell_type": "markdown",
      "metadata": {
        "id": "KrG9aIGjN6C5"
      },
      "source": [
        "**[Slide No.- 21]**\n",
        "\n",
        "6. What is the output of print(10 - 4 * 2)"
      ]
    },
    {
      "cell_type": "code",
      "metadata": {
        "id": "VfvhDJ2zN5bg",
        "colab": {
          "base_uri": "https://localhost:8080/"
        },
        "outputId": "4852bd46-e257-4ab6-ade6-7f08e2e0669a"
      },
      "source": [
        "#Check your Answer\n",
        "print(10-4*2)"
      ],
      "execution_count": 10,
      "outputs": [
        {
          "output_type": "stream",
          "text": [
            "2\n"
          ],
          "name": "stdout"
        }
      ]
    },
    {
      "cell_type": "markdown",
      "metadata": {
        "id": "k3JGKOfQOBhQ"
      },
      "source": [
        "**[Slide No.-21]**\n",
        "\n",
        "7. What is the output of print(2 * 3 ** 3 * 4)"
      ]
    },
    {
      "cell_type": "code",
      "metadata": {
        "id": "BYuPgLHZOAr4",
        "colab": {
          "base_uri": "https://localhost:8080/"
        },
        "outputId": "10c790a2-d29b-447f-90b6-561689a91c56"
      },
      "source": [
        "#Check your Answer\n",
        "print(2 * 3 ** 3 * 4)"
      ],
      "execution_count": 11,
      "outputs": [
        {
          "output_type": "stream",
          "text": [
            "216\n"
          ],
          "name": "stdout"
        }
      ]
    },
    {
      "cell_type": "markdown",
      "metadata": {
        "id": "xW2pUR61OMGp"
      },
      "source": [
        "8. What is the output of the expression  print(-18 // 4)"
      ]
    },
    {
      "cell_type": "code",
      "metadata": {
        "id": "nkDvUrFIOLWo",
        "colab": {
          "base_uri": "https://localhost:8080/"
        },
        "outputId": "826563d8-33b1-40a7-f318-e20009e8991c"
      },
      "source": [
        "print(-18 // 4)      #Floor division    -4.5  =-5"
      ],
      "execution_count": 12,
      "outputs": [
        {
          "output_type": "stream",
          "text": [
            "-5\n"
          ],
          "name": "stdout"
        }
      ]
    },
    {
      "cell_type": "code",
      "metadata": {
        "colab": {
          "base_uri": "https://localhost:8080/"
        },
        "id": "lUjjFOHcMk3z",
        "outputId": "948489ab-9bc5-4603-c8fe-42af9dccd0b7"
      },
      "source": [
        "x=8\n",
        "x -=8+x    # X+8+8       x += 8       # x-(8+x)=x-8-x\n",
        "print(x)"
      ],
      "execution_count": 13,
      "outputs": [
        {
          "output_type": "stream",
          "text": [
            "-8\n"
          ],
          "name": "stdout"
        }
      ]
    },
    {
      "cell_type": "markdown",
      "metadata": {
        "id": "jKsDtqzXOu1Y"
      },
      "source": [
        "**[Slide No.- 21]**\n",
        "\n",
        "9. Write a program to check 5 is less then 10 or greater then 3."
      ]
    },
    {
      "cell_type": "code",
      "metadata": {
        "id": "F-FwpWUMOuNU",
        "colab": {
          "base_uri": "https://localhost:8080/"
        },
        "outputId": "2210d081-a25e-4961-ec4e-6ce4e8062a6f"
      },
      "source": [
        "a,b,c=5,10,3\n",
        "if c<a:\n",
        "  print('5 is  greater than 3')\n",
        "elif a < b:\n",
        "  print('5 is less than 10')\n",
        "else:\n",
        "  print(\"wrong output\")"
      ],
      "execution_count": 15,
      "outputs": [
        {
          "output_type": "stream",
          "text": [
            "5 is  greater than 3\n"
          ],
          "name": "stdout"
        }
      ]
    },
    {
      "cell_type": "code",
      "metadata": {
        "colab": {
          "base_uri": "https://localhost:8080/"
        },
        "id": "Nj9PysQhPv-N",
        "outputId": "b9766006-97fa-4dad-837b-339bd81bac0a"
      },
      "source": [
        "a=int(input('enter number'))    # usaed to take the input from the user\n",
        "b=int(input('enter number'))\n",
        "c=int(input('enter number'))\n",
        "if a<b and a>c:\n",
        "  print('true')\n",
        "else:\n",
        "  print('false')\n"
      ],
      "execution_count": 16,
      "outputs": [
        {
          "output_type": "stream",
          "text": [
            "enter number5\n",
            "enter number6\n",
            "enter number4\n",
            "true\n"
          ],
          "name": "stdout"
        }
      ]
    },
    {
      "cell_type": "markdown",
      "metadata": {
        "id": "tZ86dv17lJaf"
      },
      "source": [
        "10 . Write a program  by using 'and' ,'or' And 'not' operator ?"
      ]
    },
    {
      "cell_type": "code",
      "metadata": {
        "id": "81iiP2NKvwXV",
        "colab": {
          "base_uri": "https://localhost:8080/"
        },
        "outputId": "4f135eed-368b-4d8f-d012-e6b848dffac8"
      },
      "source": [
        "a=3\n",
        "b=7\n",
        "print(a==3 and b==8)\n",
        "print(a==3 or b==8)\n",
        "print(a!=3)"
      ],
      "execution_count": 18,
      "outputs": [
        {
          "output_type": "stream",
          "text": [
            "False\n",
            "True\n",
            "False\n"
          ],
          "name": "stdout"
        }
      ]
    },
    {
      "cell_type": "code",
      "metadata": {
        "colab": {
          "base_uri": "https://localhost:8080/"
        },
        "id": "q-veNPPBRsLj",
        "outputId": "abbe22ae-55b0-4a69-bfe9-eff7b42ba64d"
      },
      "source": [
        "print (((10 > 2) or (2 < 5)) and (7 != 9))\n"
      ],
      "execution_count": 19,
      "outputs": [
        {
          "output_type": "stream",
          "text": [
            "True\n"
          ],
          "name": "stdout"
        }
      ]
    },
    {
      "cell_type": "markdown",
      "metadata": {
        "id": "4h-oViRKvxJY"
      },
      "source": [
        "**[Slide No.- 27]**\n",
        "\n",
        "11. What is the output of the following assignment operator\n",
        "\n",
        "y = 10\n",
        "\n",
        "y += 2\n",
        "\n",
        "print(y)"
      ]
    },
    {
      "cell_type": "code",
      "metadata": {
        "id": "rK0jrT2Kv4Do",
        "colab": {
          "base_uri": "https://localhost:8080/"
        },
        "outputId": "2ff54d5b-f4e6-486e-92d8-7ab3a3e40d09"
      },
      "source": [
        "y=10\n",
        "y+=2\n",
        "print(y)"
      ],
      "execution_count": 20,
      "outputs": [
        {
          "output_type": "stream",
          "text": [
            "12\n"
          ],
          "name": "stdout"
        }
      ]
    },
    {
      "cell_type": "markdown",
      "metadata": {
        "id": "RodqAVuDRXcY"
      },
      "source": [
        "**[Slide No.-27]**\n",
        "\n",
        "12. What is the output of the code .\n",
        "\n",
        "x=5\n",
        "\n",
        "x +=x+4\n",
        "\n",
        "print(x)\n"
      ]
    },
    {
      "cell_type": "code",
      "metadata": {
        "id": "qZ7OH6KIRaJJ",
        "colab": {
          "base_uri": "https://localhost:8080/"
        },
        "outputId": "77ac274c-c662-485c-c56f-c2e336ad15a8"
      },
      "source": [
        "x=5\n",
        "x +=x+4\n",
        "print(x)"
      ],
      "execution_count": 21,
      "outputs": [
        {
          "output_type": "stream",
          "text": [
            "14\n"
          ],
          "name": "stdout"
        }
      ]
    },
    {
      "cell_type": "markdown",
      "metadata": {
        "id": "ymG3gW4eT3F7"
      },
      "source": [
        "**[Slide No.-27]**\n",
        "\n",
        "13.  what is the output :\n",
        "\n",
        "y=7\n",
        "\n",
        "x  +=y+4\n",
        "\n",
        "print(x)"
      ]
    },
    {
      "cell_type": "code",
      "metadata": {
        "id": "4tW3Sr0bSOTK",
        "colab": {
          "base_uri": "https://localhost:8080/"
        },
        "outputId": "d8bedcb8-b3d4-49c6-cab7-ddfa7b91f9d9"
      },
      "source": [
        "#x=x+y+4\n",
        "y=7\n",
        "x +=y+4\n",
        "\n",
        "print(x )"
      ],
      "execution_count": 23,
      "outputs": [
        {
          "output_type": "stream",
          "text": [
            "25\n"
          ],
          "name": "stdout"
        }
      ]
    },
    {
      "cell_type": "code",
      "metadata": {
        "id": "frBxuwIGc6E0",
        "colab": {
          "base_uri": "https://localhost:8080/"
        },
        "outputId": "61b1966f-032d-40ce-ed33-8a295bfd4452"
      },
      "source": [
        "x=6                #110\n",
        "x=x|3              #011   \n",
        "print(x)           #  010"
      ],
      "execution_count": 24,
      "outputs": [
        {
          "output_type": "stream",
          "text": [
            "7\n"
          ],
          "name": "stdout"
        }
      ]
    },
    {
      "cell_type": "code",
      "metadata": {
        "colab": {
          "base_uri": "https://localhost:8080/"
        },
        "id": "tXqq-wwjsOIY",
        "outputId": "076036a0-aac5-40de-8464-ec495b6dbe55"
      },
      "source": [
        "x=6\n",
        "x=x>>2                 # 6 = 110 --> 011 --> 001 = 1 \n",
        "\n",
        "print(x)"
      ],
      "execution_count": 25,
      "outputs": [
        {
          "output_type": "stream",
          "text": [
            "1\n"
          ],
          "name": "stdout"
        }
      ]
    }
  ]
}