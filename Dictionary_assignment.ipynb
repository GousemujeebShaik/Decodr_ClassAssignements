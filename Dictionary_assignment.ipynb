{
  "nbformat": 4,
  "nbformat_minor": 0,
  "metadata": {
    "colab": {
      "name": "Dictionary_assignment.ipynb",
      "provenance": [],
      "collapsed_sections": [],
      "include_colab_link": true
    },
    "kernelspec": {
      "name": "python3",
      "display_name": "Python 3"
    },
    "language_info": {
      "name": "python"
    }
  },
  "cells": [
    {
      "cell_type": "markdown",
      "metadata": {
        "id": "view-in-github",
        "colab_type": "text"
      },
      "source": [
        "<a href=\"https://colab.research.google.com/github/GousemujeebShaik/Decodr_ClassAssignements/blob/main/Dictionary_assignment.ipynb\" target=\"_parent\"><img src=\"https://colab.research.google.com/assets/colab-badge.svg\" alt=\"Open In Colab\"/></a>"
      ]
    },
    {
      "cell_type": "markdown",
      "metadata": {
        "id": "24kR8DnAEDne"
      },
      "source": [
        "**[Slide No. 47]**\n",
        "\n",
        "1. Create a empty Dictionary and check its Data type."
      ]
    },
    {
      "cell_type": "code",
      "metadata": {
        "id": "mHhKHu13oltD",
        "colab": {
          "base_uri": "https://localhost:8080/"
        },
        "outputId": "bd5c3a71-c8ef-4401-ddf5-baff33caef68"
      },
      "source": [
        "dict1={}\n",
        "print(type(dict1))"
      ],
      "execution_count": 2,
      "outputs": [
        {
          "output_type": "stream",
          "text": [
            "<class 'dict'>\n"
          ],
          "name": "stdout"
        }
      ]
    },
    {
      "cell_type": "markdown",
      "metadata": {
        "id": "osWsIyfiENG9"
      },
      "source": [
        "**[Slide No.48]**\n",
        "\n",
        "2.  Write a Python program  to add a key to a dictionary\n",
        "\n",
        "Sample Dictionary : {0: 10, 1: 20}\n",
        "\n",
        "Expected Result : {0: 10, 1: 20, 2: 30}"
      ]
    },
    {
      "cell_type": "code",
      "metadata": {
        "id": "pNtCGJmlolLo",
        "colab": {
          "base_uri": "https://localhost:8080/"
        },
        "outputId": "c5eba3df-266e-43e9-925a-4077f6b500a0"
      },
      "source": [
        "dict1={0:10, 1:20}\n",
        "dict1[2]=30\n",
        "dict1"
      ],
      "execution_count": 3,
      "outputs": [
        {
          "output_type": "execute_result",
          "data": {
            "text/plain": [
              "{0: 10, 1: 20, 2: 30}"
            ]
          },
          "metadata": {
            "tags": []
          },
          "execution_count": 3
        }
      ]
    },
    {
      "cell_type": "markdown",
      "metadata": {
        "id": "Zu0BHrf1Ej1d"
      },
      "source": [
        "**[Slide No. 48]**\n",
        "\n",
        "3.  Write a Python script to concatenate following dictionaries to create a new one.\n",
        "\n",
        "Sample Dictionary :\n",
        "\n",
        "dic1={1:10, 2:20}\n",
        "\n",
        "dic2={3:30, 4:40}\n",
        "\n",
        "dic3={5:50,6:60}\n",
        "\n",
        "Expected Result : {1: 10, 2: 20, 3: 30, 4: 40, 5: 50, 6: 60}"
      ]
    },
    {
      "cell_type": "code",
      "metadata": {
        "id": "itk1nmgxomLv",
        "colab": {
          "base_uri": "https://localhost:8080/"
        },
        "outputId": "acc0fd36-1e97-478b-f643-801aac8174dc"
      },
      "source": [
        "dic1={1:10, 2:20}\n",
        "\n",
        "dic2={3:30, 4:40}\n",
        "\n",
        "dic3={5:50,6:60}\n",
        "dic1.update(dic2)\n",
        "dic1.update(dic3)\n",
        "dic1"
      ],
      "execution_count": 4,
      "outputs": [
        {
          "output_type": "execute_result",
          "data": {
            "text/plain": [
              "{1: 10, 2: 20, 3: 30, 4: 40, 5: 50, 6: 60}"
            ]
          },
          "metadata": {
            "tags": []
          },
          "execution_count": 4
        }
      ]
    },
    {
      "cell_type": "markdown",
      "metadata": {
        "id": "veyD5dq5E1N8"
      },
      "source": [
        "**[Slide No. 48]**\n",
        "\n",
        "4. Write a program to create Dictionary and add new item in it."
      ]
    },
    {
      "cell_type": "code",
      "metadata": {
        "id": "9-WHcVwAomr6",
        "colab": {
          "base_uri": "https://localhost:8080/"
        },
        "outputId": "55b16c19-a529-4e15-f382-bb9da8e837cb"
      },
      "source": [
        "dic1={1:2, 'a':'abc'}\n",
        "dic1[2]='Hello'\n",
        "dic1"
      ],
      "execution_count": 5,
      "outputs": [
        {
          "output_type": "execute_result",
          "data": {
            "text/plain": [
              "{1: 2, 2: 'Hello', 'a': 'abc'}"
            ]
          },
          "metadata": {
            "tags": []
          },
          "execution_count": 5
        }
      ]
    },
    {
      "cell_type": "markdown",
      "metadata": {
        "id": "RfJujduxFLpC"
      },
      "source": [
        "**[Slide No. 48]**\n",
        "\n",
        "5. Write a program to create Dictionary and delete the item at 3 index . "
      ]
    },
    {
      "cell_type": "code",
      "metadata": {
        "id": "zSUrG-QDonHH",
        "colab": {
          "base_uri": "https://localhost:8080/"
        },
        "outputId": "32b453cf-d7d3-4736-ab7f-363a173b67f6"
      },
      "source": [
        "dic1={1:2, 'a':'abc',  2:4, 3:4}\n",
        "dic1.pop(3)\n",
        "dic1"
      ],
      "execution_count": 6,
      "outputs": [
        {
          "output_type": "execute_result",
          "data": {
            "text/plain": [
              "{1: 2, 2: 4, 'a': 'abc'}"
            ]
          },
          "metadata": {
            "tags": []
          },
          "execution_count": 6
        }
      ]
    },
    {
      "cell_type": "markdown",
      "metadata": {
        "id": "zjee54MuFZZ7"
      },
      "source": [
        "**[Slide No. 48]**\n",
        "\n",
        "6. Write a program to create dictionary and delete last item from it."
      ]
    },
    {
      "cell_type": "code",
      "metadata": {
        "id": "gVtqF24Wonln",
        "outputId": "893c98b9-e984-486c-cb4c-cc2becea9a43",
        "colab": {
          "base_uri": "https://localhost:8080/"
        }
      },
      "source": [
        "dic1={1:2, 'a':'abc',  2:4, 3:4}\n",
        "dic1.popitem()\n",
        "dic1"
      ],
      "execution_count": 9,
      "outputs": [
        {
          "output_type": "execute_result",
          "data": {
            "text/plain": [
              "{1: 2, 2: 4, 'a': 'abc'}"
            ]
          },
          "metadata": {
            "tags": []
          },
          "execution_count": 9
        }
      ]
    },
    {
      "cell_type": "markdown",
      "metadata": {
        "id": "R9W-fDghF002"
      },
      "source": [
        "**[Slide No. 49]**\n",
        "\n",
        "7. Create a dictionary and print the item at 2nd index value."
      ]
    },
    {
      "cell_type": "code",
      "metadata": {
        "id": "seEctrJAon-3",
        "outputId": "dd3b1213-aeea-4d61-f113-591d1d574eac",
        "colab": {
          "base_uri": "https://localhost:8080/"
        }
      },
      "source": [
        "dic1={1:2, 'a':'abc',  2:4, 3:4}\n",
        "print(dic1[2])\n",
        "list1=list(dic1.items())\n",
        "list1[2]"
      ],
      "execution_count": 28,
      "outputs": [
        {
          "output_type": "stream",
          "text": [
            "4\n"
          ],
          "name": "stdout"
        },
        {
          "output_type": "execute_result",
          "data": {
            "text/plain": [
              "(2, 4)"
            ]
          },
          "metadata": {
            "tags": []
          },
          "execution_count": 28
        }
      ]
    },
    {
      "cell_type": "markdown",
      "metadata": {
        "id": "Hk9Oaiitvpu0"
      },
      "source": [
        "**[Slide No. 49]**\n",
        "\n",
        "8. Create a Dictionary and change the range of key value ."
      ]
    },
    {
      "cell_type": "code",
      "metadata": {
        "id": "jtznb02Oh5rg"
      },
      "source": [
        "dic1={1:2, 'a':'abc',  2:4, 3:4}\n",
        "dic1['2'] = '4'"
      ],
      "execution_count": 16,
      "outputs": []
    },
    {
      "cell_type": "code",
      "metadata": {
        "id": "kOAuJ261qHp8",
        "outputId": "2a237596-fe47-4023-f966-a67a32f05519",
        "colab": {
          "base_uri": "https://localhost:8080/"
        }
      },
      "source": [
        "dic1"
      ],
      "execution_count": 17,
      "outputs": [
        {
          "output_type": "execute_result",
          "data": {
            "text/plain": [
              "{1: 2, 2: 4, '2': '4', 3: 4, 'a': 'abc'}"
            ]
          },
          "metadata": {
            "tags": []
          },
          "execution_count": 17
        }
      ]
    },
    {
      "cell_type": "code",
      "metadata": {
        "id": "_wccy1N2qIqO"
      },
      "source": [
        "dic1['2']=100"
      ],
      "execution_count": 24,
      "outputs": []
    },
    {
      "cell_type": "code",
      "metadata": {
        "id": "ZKVcWRZorO57",
        "outputId": "5bd07e33-f659-4510-c432-843e15d3a604",
        "colab": {
          "base_uri": "https://localhost:8080/"
        }
      },
      "source": [
        "dic1"
      ],
      "execution_count": 25,
      "outputs": [
        {
          "output_type": "execute_result",
          "data": {
            "text/plain": [
              "{1: 2, 2: 4, '2': 100, 3: 4, 'a': 'abc'}"
            ]
          },
          "metadata": {
            "tags": []
          },
          "execution_count": 25
        }
      ]
    },
    {
      "cell_type": "code",
      "metadata": {
        "id": "VmZyjsZqrQJN"
      },
      "source": [
        ""
      ],
      "execution_count": null,
      "outputs": []
    }
  ]
}